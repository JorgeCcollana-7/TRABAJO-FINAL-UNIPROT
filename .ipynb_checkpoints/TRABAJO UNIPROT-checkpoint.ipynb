{
 "cells": [
  {
   "cell_type": "markdown",
   "id": "68384a83",
   "metadata": {},
   "source": [
    "**INTEGRANTES**  \n",
    "**JORGE CCOLLANA**  \n",
    "**JHOSEP PALOMINO**  \n"
   ]
  },
  {
   "cell_type": "code",
   "execution_count": 1,
   "id": "4c33beff",
   "metadata": {
    "scrolled": true
   },
   "outputs": [
    {
     "name": "stderr",
     "output_type": "stream",
     "text": [
      "<ipython-input-1-a8b940f2cec6>:11: DeprecationWarning: Call to deprecated function get_sheet_names (Use wb.sheetnames).\n",
      "  hojas = wb.get_sheet_names()\n"
     ]
    },
    {
     "data": {
      "text/plain": [
       "['Información',\n",
       " 'C1 Milagros',\n",
       " 'C2 Wilmer',\n",
       " 'C3 Gisell',\n",
       " 'C4 Jerica',\n",
       " 'C5 Manuel',\n",
       " 'C6 Jerica',\n",
       " 'C7 Mariana',\n",
       " 'C8 Rosha',\n",
       " 'C9 Jerica',\n",
       " 'C10 Lucero',\n",
       " 'C11 Nicole',\n",
       " 'C12 Gisell',\n",
       " 'C13 Lucero',\n",
       " 'C14 Wilmer',\n",
       " 'C15Milagros',\n",
       " 'C16',\n",
       " 'C17',\n",
       " 'C18',\n",
       " 'Hoja 20',\n",
       " 'Hoja 21',\n",
       " 'Hoja 22',\n",
       " 'Hoja 23']"
      ]
     },
     "execution_count": 1,
     "metadata": {},
     "output_type": "execute_result"
    }
   ],
   "source": [
    "import openpyxl #es un paquete para leer archivos xlsx\n",
    "import pandas as pd           #Para la creacion de tablas\n",
    "import requests #es una paquete para decodificar archivos HTTP\n",
    "from bs4 import BeautifulSoup as b  #extraer archivos de HTML\n",
    "import re #codifica expresiones regulares\n",
    "from openpyxl import load_workbook #ayuda a abrir un trabajo en excel\n",
    "\n",
    "wb = openpyxl.load_workbook('02 Ch Genes ordenados con vecinos.xlsx')\n",
    "# Primero vemos los nombres de las hojas que tiene el libro\n",
    "# Devuelve una lista de python\n",
    "hojas = wb.get_sheet_names()\n",
    "hojas"
   ]
  },
  {
   "cell_type": "code",
   "execution_count": 2,
   "id": "bdedc609",
   "metadata": {},
   "outputs": [
    {
     "data": {
      "text/plain": [
       "['C2 Wilmer',\n",
       " 'C3 Gisell',\n",
       " 'C4 Jerica',\n",
       " 'C5 Manuel',\n",
       " 'C6 Jerica',\n",
       " 'C7 Mariana',\n",
       " 'C8 Rosha',\n",
       " 'C9 Jerica',\n",
       " 'C10 Lucero',\n",
       " 'C11 Nicole',\n",
       " 'C12 Gisell',\n",
       " 'C13 Lucero']"
      ]
     },
     "execution_count": 2,
     "metadata": {},
     "output_type": "execute_result"
    }
   ],
   "source": [
    "gen_hojas=hojas[2:14]# crea una variable eligiendo solo las hojas\n",
    "gen_hojas"
   ]
  },
  {
   "cell_type": "code",
   "execution_count": 3,
   "id": "bde78122",
   "metadata": {},
   "outputs": [],
   "source": [
    "gen_lista=[]#se crea una lista vacía \n",
    "for i in gen_hojas:\n",
    "    excel_gen = pd.read_excel('02 Ch Genes ordenados con vecinos.xlsx',sheet_name=i)#se lee el archivo excel pero con todas las hojas\n",
    "    rows_gen=excel_gen.iloc[1:6,4]#elige de la fila 1 hasta la fila 5 de la columna 4 (gen abrev)\n",
    "    gen_excel=list(rows_gen)#convierte en lista la variable rows_gen\n",
    "    \n",
    "    for i in gen_excel:\n",
    "        gen_lista.append(i)#guarda cada gen en la lista vacía"
   ]
  },
  {
   "cell_type": "code",
   "execution_count": 4,
   "id": "da51ed2c",
   "metadata": {},
   "outputs": [
    {
     "data": {
      "text/plain": [
       "['LOC106503629',\n",
       " 'C2H1orf64',\n",
       " 'CLCNKA',\n",
       " 'HSPB7',\n",
       " 'FAM131C',\n",
       " 'LOC106503868',\n",
       " 'LOC108633797',\n",
       " 'LOC106503869',\n",
       " 'LOC106503865',\n",
       " 'LOC108633799',\n",
       " 'RNF32',\n",
       " 'LOC106502075',\n",
       " 'SHH',\n",
       " 'RBM33',\n",
       " 'CNPY1',\n",
       " 'NCKAP1L',\n",
       " 'GTSF1',\n",
       " 'ITGA5',\n",
       " 'ZNF385A',\n",
       " 'GPR84',\n",
       " 'GPRIN3',\n",
       " 'TIGD2',\n",
       " 'FAM13A',\n",
       " 'HERC3',\n",
       " 'NAP1L5',\n",
       " 'FBXL17',\n",
       " 'TRNAS-GGA',\n",
       " 'LOC102184996',\n",
       " 'EFNA5',\n",
       " 'LOC106502373',\n",
       " 'LOC102182592',\n",
       " 'SLC24A2',\n",
       " 'ACER2',\n",
       " 'RPS6',\n",
       " 'DENND4C',\n",
       " 'TRNAL-CAA',\n",
       " 'LOC102189482',\n",
       " 'OSTM1',\n",
       " 'SEC63',\n",
       " 'SCML4',\n",
       " 'EIF3J',\n",
       " 'CTDSPL2',\n",
       " 'LOC108636916',\n",
       " 'GOLM2',\n",
       " 'RPS6KA5',\n",
       " 'TRNAW-CCA',\n",
       " 'LOC102171344',\n",
       " 'LOC102171160',\n",
       " 'BCL2L11',\n",
       " 'ACOXL',\n",
       " 'TRNAC-GCA',\n",
       " 'LOC102168554',\n",
       " 'TMTC4',\n",
       " 'GGACT',\n",
       " 'PCCA',\n",
       " 'LOC108637349',\n",
       " 'SPTLC3',\n",
       " 'ISM1',\n",
       " 'TASP1\\t',\n",
       " 'ESF1']"
      ]
     },
     "execution_count": 4,
     "metadata": {},
     "output_type": "execute_result"
    }
   ],
   "source": [
    "gen_lista"
   ]
  },
  {
   "cell_type": "code",
   "execution_count": null,
   "id": "d8c3c3af",
   "metadata": {},
   "outputs": [],
   "source": [
    "gen_hircus_capra=[['Gen', 'Entry', 'Entryname' , 'Protein', 'Gene', 'Organism', \n",
    "                 'Status', 'GO_Biological_process']]# creando una variable con las columnas pedidas de acuerdo al trabajo.\n",
    "\n",
    "for Gen in gen_lista: \n",
    "    url = (f\"https://www.uniprot.org/uniprot/?query={Gen}+capra+hircus&sort=score\")\n",
    "    #se crea un url con cada gen mas capra hircus en un ciclo for de la lista \"gen lista\"\n",
    "    html = requests.get(url)#obtener los datos de la pagina\n",
    "    soup = b(html.content, 'html.parser')#analiza el archivo de texto formateado en html\n",
    "    \n",
    "    if 'Sorry, no results found for your search term.' in str(soup.text):\n",
    "        link_gen=[Gen, '', '' , '', '', '', '', '']\n",
    "        # si no encuentra los datos que se necesita entonces por en blanco a la lista y agregalo en una fila\n",
    "        \n",
    "\n",
    "    else: #Sino entonces agrega todo los datos en el Reporte\n",
    "\n",
    "        #Busqueda de la columna Entry\n",
    "        Entry=soup.find('tr',class_=\"entry selected-row\").a.text\n",
    "        #Este codigo encontrar la etiqueta <tr> y su clase \"entry selected-row\", extrae la informacion de la etiqueta a y extrae el texto de la referencia.\n",
    "\n",
    "        \n",
    "        #Busqueda de la columna Entryname\n",
    "        Entryname=soup.find('tr',class_=\"entry selected-row\").find_all('td')[2].text\n",
    "        #Este codigo encontrara la etiqueta <tr> y su clase \"entry selected-row\"; extrayendo todos los texto \n",
    "        # de la posicion [2] de todas las etiquetas <td>\n",
    "        "
   ]
  }
 ],
 "metadata": {
  "kernelspec": {
   "display_name": "Python 3",
   "language": "python",
   "name": "python3"
  },
  "language_info": {
   "codemirror_mode": {
    "name": "ipython",
    "version": 3
   },
   "file_extension": ".py",
   "mimetype": "text/x-python",
   "name": "python",
   "nbconvert_exporter": "python",
   "pygments_lexer": "ipython3",
   "version": "3.8.8"
  }
 },
 "nbformat": 4,
 "nbformat_minor": 5
}
