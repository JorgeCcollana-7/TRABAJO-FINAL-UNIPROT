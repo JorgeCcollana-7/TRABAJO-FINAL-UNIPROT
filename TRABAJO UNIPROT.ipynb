{
 "cells": [
  {
   "cell_type": "code",
   "execution_count": 1,
   "id": "4c33beff",
   "metadata": {},
   "outputs": [
    {
     "name": "stderr",
     "output_type": "stream",
     "text": [
      "<ipython-input-1-a8b940f2cec6>:11: DeprecationWarning: Call to deprecated function get_sheet_names (Use wb.sheetnames).\n",
      "  hojas = wb.get_sheet_names()\n"
     ]
    },
    {
     "data": {
      "text/plain": [
       "['Información',\n",
       " 'C1 Milagros',\n",
       " 'C2 Wilmer',\n",
       " 'C3 Gisell',\n",
       " 'C4 Jerica',\n",
       " 'C5 Manuel',\n",
       " 'C6 Jerica',\n",
       " 'C7 Mariana',\n",
       " 'C8 Rosha',\n",
       " 'C9 Jerica',\n",
       " 'C10 Lucero',\n",
       " 'C11 Nicole',\n",
       " 'C12 Gisell',\n",
       " 'C13 Lucero',\n",
       " 'C14 Wilmer',\n",
       " 'C15Milagros',\n",
       " 'C16',\n",
       " 'C17',\n",
       " 'C18',\n",
       " 'Hoja 20',\n",
       " 'Hoja 21',\n",
       " 'Hoja 22',\n",
       " 'Hoja 23']"
      ]
     },
     "execution_count": 1,
     "metadata": {},
     "output_type": "execute_result"
    }
   ],
   "source": [
    "import openpyxl #es un paquete para leer archivos xlsx\n",
    "import pandas as pd           #Para la creacion de tablas\n",
    "import requests #es una paquete para decodificar archivos HTTP\n",
    "from bs4 import BeautifulSoup as b  #extraer archivos de HTML\n",
    "import re #codifica expresiones regulares\n",
    "from openpyxl import load_workbook #ayuda a abrir un trabajo en excel\n",
    "\n",
    "wb = openpyxl.load_workbook('02 Ch Genes ordenados con vecinos.xlsx')\n",
    "# Primero vemos los nombres de las hojas que tiene el libro\n",
    "# Devuelve una lista de python\n",
    "hojas = wb.get_sheet_names()\n",
    "hojas"
   ]
  }
 ],
 "metadata": {
  "kernelspec": {
   "display_name": "Python 3",
   "language": "python",
   "name": "python3"
  },
  "language_info": {
   "codemirror_mode": {
    "name": "ipython",
    "version": 3
   },
   "file_extension": ".py",
   "mimetype": "text/x-python",
   "name": "python",
   "nbconvert_exporter": "python",
   "pygments_lexer": "ipython3",
   "version": "3.8.8"
  }
 },
 "nbformat": 4,
 "nbformat_minor": 5
}
